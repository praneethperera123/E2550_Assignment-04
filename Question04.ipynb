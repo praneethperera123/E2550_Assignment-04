{
  "nbformat": 4,
  "nbformat_minor": 0,
  "metadata": {
    "colab": {
      "name": "Question04.ipynb",
      "provenance": []
    },
    "kernelspec": {
      "name": "python3",
      "display_name": "Python 3"
    },
    "language_info": {
      "name": "python"
    }
  },
  "cells": [
    {
      "cell_type": "code",
      "metadata": {
        "colab": {
          "base_uri": "https://localhost:8080/",
          "height": 624
        },
        "id": "UO1h_8YroVAc",
        "outputId": "935a7d32-52da-42dd-eb6d-4bbd750201ba"
      },
      "source": [
        "\n",
        "import tensorflow as tf\n",
        "import datetime\n",
        "from tensorflow import keras\n",
        "from tensorflow.keras import datasets, layers, models\n",
        "from tensorflow.keras.optimizers import SGD\n",
        "import numpy as np \n",
        "import matplotlib.pyplot as plt\n",
        "\n",
        "#lets consider the MNIST dataset\n",
        "(x_train, y_train), (x_test, y_test) = datasets.mnist.load_data()\n",
        "\n",
        "#padding the data inprder to construct images 32 by 32\n",
        "padd = tf.constant([[0,0], [2,2], [2,2]])\n",
        "x_train = tf.pad(x_train, padd, constant_values = 0)\n",
        "x_test = tf.pad(x_test, padd, constant_values = 0)\n",
        "\n",
        "print('x_train: ', x_train.shape)\n",
        "print('y_train: ', y_train.shape)\n",
        "print('x_test: ', x_test.shape)\n",
        "print('y_test: ', y_test.shape)\n",
        "\n",
        "class_names = ['0', '1', '2', '3', '4', '5', '6', '7', '8', '9']\n",
        "\n",
        "x_train = tf.dtypes.cast(x_train, tf.float32)\n",
        "x_test = tf.dtypes.cast(x_test, tf.float32)\n",
        "\n",
        "#Normalizing the pixel intensities\n",
        "x_train, x_test = x_train[...,np.newaxis]/255, x_test[..., np.newaxis]/255\n",
        "\n",
        "#plotting the first 10 images \n",
        "plt.figure(figsize = (30,6))\n",
        "for i in range(10):\n",
        "    plt.subplot(2, 5 , i+1)\n",
        "    plt.xticks([]); plt.xticks([])\n",
        "    plt.imshow(tf.reshape(x_train[i], [32,32]), cmap = plt.cm.gray)\n",
        "    plt.xlabel(class_names[y_train[i]])\n",
        "plt.show()\n",
        "\n",
        "#construct the sequential model\n",
        "model = models.Sequential()\n",
        "\n",
        "model.add(layers.Conv2D(32, (3, 3), activation='relu', input_shape=(32, 32, 1)))\n",
        "model.add(layers.MaxPool2D((2, 2)))\n",
        "\n",
        "model.add(layers.Conv2D(64, (3, 3), activation='relu'))\n",
        "model.add(layers.MaxPool2D((2, 2)))\n",
        "\n",
        "model.add(layers.Conv2D(64, (3, 3), activation='relu'))\n",
        "model.add(layers.MaxPool2D((2, 2)))\n",
        "\n",
        "model.add(layers.Flatten())\n",
        "model.add(layers.Dense(64, activation = 'relu'))\n",
        "model.add(layers.Dense(10))\n",
        "\n",
        "#compiling the model\n",
        "sgd = SGD(lr = 0.05, decay = 1e-5, momentum = 0.8)\n",
        "model.compile(optimizer = 'sgd',loss = tf.keras.losses.SparseCategoricalCrossentropy(from_logits=True),\n",
        "              metrics=['accuracy'])\n",
        "print(model.summary)\n",
        "\n",
        "#Enable visualization for tensorboard\n",
        "log_dir = \".\\\\logs\\\\fit\\\\\" + datetime.datetime.now().strftime(\"%Y%m%d - %H%M%S\")\n",
        "tensorboard_callback = tf.keras.callbacks.TensorBoard(log_dir=log_dir, histogram_freq=1)\n",
        "\n",
        "#Training\n",
        "model.fit(x_train, y_train, epochs = 5, batch_size = 50, callbacks=[tensorboard_callback])\n",
        "\n",
        "#evaluation\n",
        "test_loss, test_acc = model.evaluate(x_test, y_test, verbose=2)\n",
        "print(\"Testing accuracy: \", test_acc)"
      ],
      "execution_count": 4,
      "outputs": [
        {
          "output_type": "stream",
          "text": [
            "x_train:  (60000, 32, 32)\n",
            "y_train:  (60000,)\n",
            "x_test:  (10000, 32, 32)\n",
            "y_test:  (10000,)\n"
          ],
          "name": "stdout"
        },
        {
          "output_type": "display_data",
          "data": {
            "image/png": "[encoded data removed]",
            "text/plain": [
              "<Figure size 2160x432 with 10 Axes>"
            ]
          },
          "metadata": {
            "tags": [],
            "needs_background": "light"
          }
        },
        {
          "output_type": "stream",
          "text": [
            "<bound method Model.summary of <tensorflow.python.keras.engine.sequential.Sequential object at 0x7f8dd5bd0ed0>>\n",
            "Epoch 1/5\n",
            "1200/1200 [==============================] - 74s 61ms/step - loss: 1.5228 - accuracy: 0.5326\n",
            "Epoch 2/5\n",
            "1200/1200 [==============================] - 73s 61ms/step - loss: 0.1802 - accuracy: 0.9445\n",
            "Epoch 3/5\n",
            "1200/1200 [==============================] - 73s 61ms/step - loss: 0.1135 - accuracy: 0.9651\n",
            "Epoch 4/5\n",
            "1200/1200 [==============================] - 74s 62ms/step - loss: 0.0946 - accuracy: 0.9716\n",
            "Epoch 5/5\n",
            "1200/1200 [==============================] - 73s 61ms/step - loss: 0.0765 - accuracy: 0.9760\n",
            "313/313 - 4s - loss: 0.0650 - accuracy: 0.9787\n",
            "Testing accuracy:  0.9786999821662903\n"
          ],
          "name": "stdout"
        }
      ]
    }
  ]
}